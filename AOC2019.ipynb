{
 "cells": [
  {
   "cell_type": "markdown",
   "metadata": {},
   "source": [
    "## P5"
   ]
  },
  {
   "cell_type": "code",
   "execution_count": null,
   "metadata": {},
   "outputs": [],
   "source": [
    "def op(s, offset):\n",
    "    if s[offset] == 99:\n",
    "        return False\n",
    "    pr = s[offset:offset+4].copy()\n",
    "    opc = pr[0]\n",
    "    a = s[pr[1]]\n",
    "    b = s[pr[2]]\n",
    "    if opc==1:\n",
    "        s[pr[3]] = a + b\n",
    "        return True\n",
    "    elif opc==2:\n",
    "        s[pr[3]] = a*b\n",
    "        return True\n",
    "    elif opc==99:\n",
    "        return False\n",
    "    else:\n",
    "        print('Error')\n",
    "        return False\n",
    "\n",
    "def run(prog):\n",
    "    offset = 0\n",
    "    while op(prog, offset):\n",
    "        #print('Operation at {}'.format(offset))\n",
    "        offset += 4"
   ]
  },
  {
   "cell_type": "code",
   "execution_count": null,
   "metadata": {},
   "outputs": [],
   "source": []
  },
  {
   "cell_type": "code",
   "execution_count": null,
   "metadata": {},
   "outputs": [],
   "source": []
  },
  {
   "cell_type": "code",
   "execution_count": null,
   "metadata": {},
   "outputs": [],
   "source": []
  },
  {
   "cell_type": "code",
   "execution_count": null,
   "metadata": {},
   "outputs": [],
   "source": []
  },
  {
   "cell_type": "code",
   "execution_count": null,
   "metadata": {},
   "outputs": [],
   "source": []
  },
  {
   "cell_type": "markdown",
   "metadata": {},
   "source": [
    "## P4"
   ]
  },
  {
   "cell_type": "code",
   "execution_count": null,
   "metadata": {},
   "outputs": [],
   "source": [
    "low = 264360\n",
    "up = 746325\n",
    "cnt = 0\n",
    "for x1 in range(8):\n",
    "    for x2 in range(x1, 10):\n",
    "        for x3 in range(x2, 10):\n",
    "            for x4 in range(x3, 10):\n",
    "                for x5 in range(x4, 10):\n",
    "                    for x6 in range(x5, 10):\n",
    "                        if not (x1 == x2 or x2 == x3 or x3 == x4 or x4 == x5 or x5 == x6):\n",
    "                            continue\n",
    "                        if not check_nb([x1, x2, x3, x4, x5, x6]):\n",
    "                            continue\n",
    "                        nb = x1 * 100000 + x2*10000 + x3*1000 + x4 *100 + x5 *10 + x6\n",
    "                        if nb < low:\n",
    "                            continue\n",
    "                        if nb > up:\n",
    "                            break\n",
    "                        cnt += 1\n",
    "print(cnt)"
   ]
  },
  {
   "cell_type": "code",
   "execution_count": null,
   "metadata": {},
   "outputs": [],
   "source": [
    "from collections import Counter\n",
    "\n",
    "def check_nb(l):\n",
    "    c = Counter()\n",
    "    last = l[0]\n",
    "    c[last] += 1\n",
    "    for i in range(1,6):\n",
    "        c[l[i]] += 1\n",
    "        last = l[i]\n",
    "     \n",
    "    return any(cnt == 2 for cnt in c.values())\n",
    "check_nb([1,2,3,4,5,5])"
   ]
  },
  {
   "cell_type": "code",
   "execution_count": null,
   "metadata": {},
   "outputs": [],
   "source": [
    "_.values()"
   ]
  },
  {
   "cell_type": "markdown",
   "metadata": {},
   "source": [
    "## P3"
   ]
  },
  {
   "cell_type": "code",
   "execution_count": null,
   "metadata": {},
   "outputs": [],
   "source": [
    "with open('p3_input.txt') as f:\n",
    "    wires = f.read().split()\n",
    "    wires = [w.split(',') for w in wires]\n",
    "wires"
   ]
  },
  {
   "cell_type": "code",
   "execution_count": null,
   "metadata": {},
   "outputs": [],
   "source": [
    "def create_path(w):\n",
    "    path = [(0, 0)]\n",
    "    x, y = (0,0)\n",
    "    for d in w:\n",
    "        o = d[0]\n",
    "        amount = int(d[1:])\n",
    "        for i in range(amount):\n",
    "            if o=='R':\n",
    "                x += 1\n",
    "            elif o=='L':\n",
    "                x -= 1\n",
    "            elif o=='U':\n",
    "                y -= 1\n",
    "            elif o=='D':\n",
    "                y += 1\n",
    "            path.append((x, y))\n",
    "    return path\n",
    "p1 = create_path(wires[0])\n",
    "p2 = create_path(wires[1])"
   ]
  },
  {
   "cell_type": "code",
   "execution_count": null,
   "metadata": {},
   "outputs": [],
   "source": [
    "crossing_points = set(p1) & set(p2)"
   ]
  },
  {
   "cell_type": "code",
   "execution_count": null,
   "metadata": {},
   "outputs": [],
   "source": [
    "crossing_points.remove((0, 0))"
   ]
  },
  {
   "cell_type": "code",
   "execution_count": null,
   "metadata": {},
   "outputs": [],
   "source": [
    "min(abs(cp[0])+abs(cp[1]) for cp in crossing_points)"
   ]
  },
  {
   "cell_type": "code",
   "execution_count": null,
   "metadata": {},
   "outputs": [],
   "source": [
    "lengths = []\n",
    "for cp in crossing_points:\n",
    "    l = 0\n",
    "    for p in p1:\n",
    "        if p == cp:\n",
    "            break\n",
    "        l+=1\n",
    "    for p in p2:\n",
    "        if p == cp:\n",
    "            break\n",
    "        l+=1\n",
    "    lengths.append(l)\n",
    "min(lengths)"
   ]
  },
  {
   "cell_type": "markdown",
   "metadata": {},
   "source": [
    "## P1"
   ]
  },
  {
   "cell_type": "code",
   "execution_count": null,
   "metadata": {},
   "outputs": [],
   "source": [
    "with open('p1_input.txt') as f:\n",
    "    lines = f.read().split()\n",
    "    \n",
    "def fuel_need(val):\n",
    "    return max(int(val / 3) - 2, 0)\n",
    "\n",
    "def fuel_comp(val):\n",
    "    tot = 0\n",
    "    fn = fuel_need(val)\n",
    "    while fn > 0:\n",
    "        tot += fn\n",
    "        fn = fuel_need(fn)\n",
    "    return tot"
   ]
  },
  {
   "cell_type": "code",
   "execution_count": null,
   "metadata": {},
   "outputs": [],
   "source": [
    "need = sum(fuel_need(int(val)) for val in lines)\n",
    "print(need)"
   ]
  },
  {
   "cell_type": "code",
   "execution_count": null,
   "metadata": {},
   "outputs": [],
   "source": [
    "need = sum(fuel_comp(int(val)) for val in lines)\n",
    "print(need)"
   ]
  },
  {
   "cell_type": "markdown",
   "metadata": {},
   "source": [
    "## P2"
   ]
  },
  {
   "cell_type": "code",
   "execution_count": null,
   "metadata": {},
   "outputs": [],
   "source": [
    "def get_prog():\n",
    "    return [1,0,0,3,1,1,2,3,1,3,4,3,1,5,0,3,2,1,13,19,2,9,19,23,1,23,6,27,1,13,27,31,1,31,10,35,1,9,35,39,1,39,9,43,2,6,43,47,1,47,5,51,2,10,51,55,1,6,55,59,2,13,59,63,2,13,63,67,1,6,67,71,1,71,5,75,2,75,6,79,1,5,79,83,1,83,6,87,2,10,87,91,1,9,91,95,1,6,95,99,1,99,6,103,2,103,9,107,2,107,10,111,1,5,111,115,1,115,6,119,2,6,119,123,1,10,123,127,1,127,5,131,1,131,2,135,1,135,5,0,99,2,0,14,0]"
   ]
  },
  {
   "cell_type": "code",
   "execution_count": null,
   "metadata": {},
   "outputs": [],
   "source": [
    "prog[1] = 12\n",
    "prog[2] = 2"
   ]
  },
  {
   "cell_type": "code",
   "execution_count": null,
   "metadata": {},
   "outputs": [],
   "source": [
    "def op(s, offset):\n",
    "    if s[offset] == 99:\n",
    "        return False\n",
    "    pr = s[offset:offset+4].copy()\n",
    "    opc = pr[0]\n",
    "    a = s[pr[1]]\n",
    "    b = s[pr[2]]\n",
    "    if opc==1:\n",
    "        s[pr[3]] = a + b\n",
    "        return True\n",
    "    elif opc==2:\n",
    "        s[pr[3]] = a*b\n",
    "        return True\n",
    "    elif opc==99:\n",
    "        return False\n",
    "    else:\n",
    "        print('Error')\n",
    "        return False\n",
    "\n",
    "def run(prog):\n",
    "    offset = 0\n",
    "    while op(prog, offset):\n",
    "        #print('Operation at {}'.format(offset))\n",
    "        offset += 4"
   ]
  },
  {
   "cell_type": "code",
   "execution_count": null,
   "metadata": {},
   "outputs": [],
   "source": [
    "prog"
   ]
  },
  {
   "cell_type": "code",
   "execution_count": null,
   "metadata": {},
   "outputs": [],
   "source": [
    "test1 = [1,0,0,0,99]"
   ]
  },
  {
   "cell_type": "code",
   "execution_count": null,
   "metadata": {},
   "outputs": [],
   "source": [
    "run(test1)"
   ]
  },
  {
   "cell_type": "code",
   "execution_count": null,
   "metadata": {},
   "outputs": [],
   "source": [
    "run(prog)"
   ]
  },
  {
   "cell_type": "code",
   "execution_count": null,
   "metadata": {},
   "outputs": [],
   "source": [
    "prog"
   ]
  },
  {
   "cell_type": "code",
   "execution_count": null,
   "metadata": {},
   "outputs": [],
   "source": [
    "for a in range(100):\n",
    "    for b in range(100):\n",
    "        p = get_prog()\n",
    "        p[1] = a\n",
    "        p[2] = b\n",
    "        run(p)\n",
    "        if p[0] == 19690720:\n",
    "            print(a, b)\n",
    "            break"
   ]
  },
  {
   "cell_type": "code",
   "execution_count": null,
   "metadata": {},
   "outputs": [],
   "source": []
  }
 ],
 "metadata": {
  "kernelspec": {
   "display_name": "Python 3",
   "language": "python",
   "name": "python3"
  },
  "language_info": {
   "codemirror_mode": {
    "name": "ipython",
    "version": 3
   },
   "file_extension": ".py",
   "mimetype": "text/x-python",
   "name": "python",
   "nbconvert_exporter": "python",
   "pygments_lexer": "ipython3",
   "version": "3.6.7"
  }
 },
 "nbformat": 4,
 "nbformat_minor": 2
}
