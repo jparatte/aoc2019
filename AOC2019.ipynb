{
 "cells": [
  {
   "cell_type": "markdown",
   "metadata": {},
   "source": [
    "## P10"
   ]
  },
  {
   "cell_type": "code",
   "execution_count": 10,
   "metadata": {},
   "outputs": [],
   "source": [
    "from collections import namedtuple\n",
    "\n",
    "Point = namedtuple('Point', ['x', 'y']) \n",
    "\n",
    "belt = set()\n",
    "with open('p10_input.txt') as f:\n",
    "    for y, line in enumerate(f):\n",
    "        for x, c in enumerate(line):\n",
    "            if c == '#':\n",
    "                belt.add(Point(x, y))"
   ]
  },
  {
   "cell_type": "code",
   "execution_count": 12,
   "metadata": {},
   "outputs": [
    {
     "data": {
      "text/plain": [
       "False"
      ]
     },
     "execution_count": 12,
     "metadata": {},
     "output_type": "execute_result"
    }
   ],
   "source": [
    "Point(0, 2) in belt"
   ]
  },
  {
   "cell_type": "code",
   "execution_count": 59,
   "metadata": {},
   "outputs": [
    {
     "name": "stdout",
     "output_type": "stream",
     "text": [
      "347\n"
     ]
    }
   ],
   "source": [
    "def los(p1, p2):\n",
    "    l = set()\n",
    "    sx, sy = p1\n",
    "    lx, ly = p2\n",
    "    if abs(lx - sx) == 0:\n",
    "        my = min(sy, ly)\n",
    "        ly = max(sy, ly)\n",
    "        for dy in range(ly - my + 1):\n",
    "            l.add(Point(sx, my + dy))\n",
    "    else:\n",
    "        m = (ly - sy) / abs(lx - sx)\n",
    "        for dx in range(abs(lx - sx) + 1):\n",
    "            nx = sx+dx if lx > sx else sx - dx\n",
    "            l.add(Point(nx, sy + m*dx))\n",
    "    return l\n",
    "    \n",
    "cnts = []\n",
    "for src in belt:\n",
    "    cnt = 0\n",
    "    for dst in belt - {src}:\n",
    "        if not los(src, dst) & belt - {src, dst}:\n",
    "            cnt += 1\n",
    "    cnts.append(cnt)\n",
    "\n",
    "print(max(cnts))"
   ]
  },
  {
   "cell_type": "code",
   "execution_count": 54,
   "metadata": {},
   "outputs": [
    {
     "data": {
      "text/plain": [
       "set()"
      ]
     },
     "execution_count": 54,
     "metadata": {},
     "output_type": "execute_result"
    }
   ],
   "source": [
    "\n",
    "los(Point(0, 1), Point(4, 5)) & belt - {Point(0, 1)}"
   ]
  },
  {
   "cell_type": "markdown",
   "metadata": {},
   "source": [
    "## P9"
   ]
  },
  {
   "cell_type": "code",
   "execution_count": null,
   "metadata": {},
   "outputs": [],
   "source": [
    "with open('p9_input.txt') as f:\n",
    "    prog = f.read().strip().split(',')"
   ]
  },
  {
   "cell_type": "code",
   "execution_count": null,
   "metadata": {},
   "outputs": [],
   "source": [
    "prog1 = [109,1,204,-1,1001,100,1,100,1008,100,16,101,1006,101,0,99]\n",
    "prog2 = [1102,34915192,34915192,7,4,7,99,0]\n",
    "prog3 = [104,1125899906842624,99]\n",
    "\n",
    "p1 = Prog(prog1)\n",
    "p2 = Prog(prog2)\n",
    "p3 = Prog(prog3)\n",
    "\n",
    "p = Prog(prog)\n",
    "p.input_deque.append(1)\n",
    "\n",
    "def run(p):\n",
    "    while not p.finished:\n",
    "        p.run()\n",
    "    print(p.output_deque)\n",
    "    \n",
    "run(p)"
   ]
  },
  {
   "cell_type": "code",
   "execution_count": null,
   "metadata": {},
   "outputs": [],
   "source": [
    "p = Prog(prog)\n",
    "p.input_deque.append(2)\n",
    "run(p)"
   ]
  },
  {
   "cell_type": "code",
   "execution_count": null,
   "metadata": {},
   "outputs": [],
   "source": [
    "from collections import defaultdict, deque\n",
    "\n",
    "def opc(s):\n",
    "    s_ = '{:05d}'.format(int(s))\n",
    "    code = int(s_[-2:])\n",
    "    params = s_[0:3]\n",
    "    return code, params[::-1]\n",
    "\n",
    "class Prog:\n",
    "    def __init__(self, prog):\n",
    "        self.prog = prog.copy()\n",
    "        self.base_prog = prog.copy()\n",
    "        self.offset = 0\n",
    "        self.input_deque = deque()\n",
    "        self.output_deque = deque()\n",
    "        self.finished = False\n",
    "        self.memory = defaultdict(lambda: 0)\n",
    "        self.rel_base = 0\n",
    "        \n",
    "    def run(self):\n",
    "        _continue = True\n",
    "#         print('Run with ', self.input_deque)\n",
    "        while _continue:\n",
    "            _continue, _offset = self.op2(self.prog)\n",
    "            self.offset += _offset\n",
    "            \n",
    "    def mem_read(self, s, addr, relative=False):\n",
    "        if addr < len(s):\n",
    "            return s[addr]\n",
    "        else:\n",
    "            return self.memory[addr]\n",
    "    \n",
    "    def mem_write(self, s, addr_, val, relative=False):\n",
    "        if relative:\n",
    "            addr = self.rel_base + addr_\n",
    "        else:\n",
    "            addr = addr_\n",
    "        if addr < len(s):\n",
    "            s[addr] = val\n",
    "        else:\n",
    "            self.memory[addr] = val\n",
    "        \n",
    "    def op2(self, s):\n",
    "        offset = self.offset\n",
    "        code, params = opc(s[offset])\n",
    "#         print(s[offset], code, offset, params)\n",
    "        _off = 4\n",
    "        if code == 3 or code == 4 or code == 9:\n",
    "            _off = 2\n",
    "        if code == 5 or code == 6:\n",
    "            _off = 3\n",
    "\n",
    "        if code == 99:\n",
    "            self.finished = True\n",
    "            return False, 1\n",
    "        pr = s[offset:offset+_off].copy()\n",
    "\n",
    "        ppr = []\n",
    "        for i, val in enumerate(pr[1:]):\n",
    "    #         print(i, val)\n",
    "            if int(params[i]) == 0:\n",
    "                addr = int(val)\n",
    "                ppr.append(int(self.mem_read(s, addr)))\n",
    "            elif int(params[i]) == 1:\n",
    "                ppr.append(int(val))\n",
    "            else:\n",
    "                addr = self.rel_base + int(val)\n",
    "                ppr.append(int(self.mem_read(s, addr)))\n",
    "\n",
    "    #     print(ppr)\n",
    "\n",
    "        if code == 3:\n",
    "    #         in_ = input()\n",
    "            in_ = self.input_deque.popleft()\n",
    "            in_ = int(in_)\n",
    "            self.mem_write(s, int(pr[-1]), in_, int(params[0])==2)\n",
    "            return True, _off\n",
    "        elif code == 4:\n",
    "#             print('>>>', s[int(pr[-1])])\n",
    "            self.output_deque.append(ppr[0])\n",
    "            return False, _off\n",
    "        elif code == 5:\n",
    "            flag = ppr[0]\n",
    "            if flag > 0:\n",
    "                new_addr = ppr[1]\n",
    "                return True, new_addr - offset\n",
    "            else:\n",
    "                return True, _off\n",
    "        elif code == 6:\n",
    "            flag = ppr[0]\n",
    "            if flag == 0:\n",
    "                new_addr = ppr[1]\n",
    "                return True, new_addr - offset\n",
    "            else:\n",
    "                return True, _off\n",
    "        elif code == 9:\n",
    "            self.rel_base += ppr[0]\n",
    "            return True, _off\n",
    "\n",
    "        if code == 1:\n",
    "            self.mem_write(s,int(pr[-1]), ppr[0] + ppr[1], int(params[-1])==2)\n",
    "            return True, _off\n",
    "        elif code == 2:\n",
    "            self.mem_write(s,int(pr[-1]), ppr[0] * ppr[1], int(params[-1])==2)\n",
    "            return True, _off\n",
    "        elif code == 7:\n",
    "            self.mem_write(s,int(pr[-1]), 1 if ppr[0] < ppr[1] else 0, int(params[-1])==2)\n",
    "            return True, _off\n",
    "        elif code == 8:\n",
    "            self.mem_write(s,int(pr[-1]), 1 if ppr[0] == ppr[1] else 0, int(params[-1])==2)\n",
    "            return True, _off\n",
    "        elif code == 99:\n",
    "            return False, 1\n",
    "        else:\n",
    "            print('Error')\n",
    "            return False"
   ]
  },
  {
   "cell_type": "markdown",
   "metadata": {},
   "source": [
    "## P8"
   ]
  },
  {
   "cell_type": "code",
   "execution_count": null,
   "metadata": {},
   "outputs": [],
   "source": [
    "with open('p8_input.txt') as f:\n",
    "    img_buffer = f.read().strip()"
   ]
  },
  {
   "cell_type": "code",
   "execution_count": null,
   "metadata": {},
   "outputs": [],
   "source": [
    "w = 25\n",
    "h = 6\n",
    "nl = int(len(img_buffer) / (w*h))\n",
    "print('Image is {}x{}x{}'.format(w, h, nl))"
   ]
  },
  {
   "cell_type": "code",
   "execution_count": null,
   "metadata": {},
   "outputs": [],
   "source": [
    "img = []\n",
    "ptr = 0\n",
    "for _ in range(nl):\n",
    "    layer = []\n",
    "    for _ in range(h):\n",
    "        for _ in range(w):\n",
    "            layer.append(img_buffer[ptr])\n",
    "            ptr += 1\n",
    "    img.append(layer)\n"
   ]
  },
  {
   "cell_type": "code",
   "execution_count": null,
   "metadata": {},
   "outputs": [],
   "source": [
    "from collections import Counter\n",
    "\n",
    "counters = []\n",
    "for l in range(nl):\n",
    "    counters.append(Counter(img[l]))\n",
    "    \n",
    "target = min(cnt['0'] for cnt in counters)\n",
    "\n",
    "for l in range(nl):\n",
    "    if counters[l]['0'] == target:\n",
    "        print(counters[l]['1']*counters[l]['2'])"
   ]
  },
  {
   "cell_type": "code",
   "execution_count": null,
   "metadata": {},
   "outputs": [],
   "source": [
    "acc = img[0].copy()"
   ]
  },
  {
   "cell_type": "code",
   "execution_count": null,
   "metadata": {},
   "outputs": [],
   "source": [
    "for l in range(1, nl):\n",
    "    for ptr in range(len(acc)):\n",
    "        if int(acc[ptr]) == 2:\n",
    "            if int(img[l][ptr]) < 2:\n",
    "                acc[ptr] = img[l][ptr]"
   ]
  },
  {
   "cell_type": "code",
   "execution_count": null,
   "metadata": {},
   "outputs": [],
   "source": [
    "def print_img(acc):\n",
    "    ptr = 0\n",
    "    for hp in range(h):\n",
    "        for wp in range(w):\n",
    "            print(acc[ptr], end='')\n",
    "            ptr += 1\n",
    "        print()\n",
    "        \n",
    "print_img(acc)"
   ]
  },
  {
   "cell_type": "code",
   "execution_count": null,
   "metadata": {},
   "outputs": [],
   "source": [
    "import numpy as np\n",
    "import matplotlib.pyplot as plt\n",
    "\n",
    "np_img = np.zeros((h,w,3), np.uint8)\n",
    "\n",
    "ptr = 0\n",
    "for hp in range(h):\n",
    "    for wp in range(w):\n",
    "        if int(acc[ptr]) == 1:\n",
    "            np_img[hp, wp] = (255, 255, 255)\n",
    "        ptr += 1\n",
    "\n",
    "matplotlib.pyplot.imshow(np_img)"
   ]
  },
  {
   "cell_type": "markdown",
   "metadata": {},
   "source": [
    "## P7"
   ]
  },
  {
   "cell_type": "code",
   "execution_count": null,
   "metadata": {},
   "outputs": [],
   "source": [
    "prog1 = [3,15,3,16,1002,16,10,16,1,16,15,15,4,15,99,0,0]\n",
    "prog2 = [3,23,3,24,1002,24,10,24,1002,23,-1,23,\n",
    "101,5,23,23,1,24,23,23,4,23,99,0,0]"
   ]
  },
  {
   "cell_type": "code",
   "execution_count": null,
   "metadata": {},
   "outputs": [],
   "source": [
    "from collections import deque\n",
    "inp = deque([3, 0])\n",
    "inp.popleft()"
   ]
  },
  {
   "cell_type": "code",
   "execution_count": null,
   "metadata": {},
   "outputs": [],
   "source": [
    "run_prog(prog1)"
   ]
  },
  {
   "cell_type": "code",
   "execution_count": null,
   "metadata": {},
   "outputs": [],
   "source": [
    "with open('p7_input.txt') as f:\n",
    "    prog = f.read().strip().split(',')"
   ]
  },
  {
   "cell_type": "code",
   "execution_count": null,
   "metadata": {},
   "outputs": [],
   "source": [
    "params = [0, 1, 2, 3, 4]\n",
    "from itertools import permutations\n",
    "\n",
    "perms = permutations(params)\n",
    "\n",
    "output = []\n",
    "\n",
    "for perm in perms:\n",
    "    inp = deque([0])\n",
    "    for p in perm:\n",
    "        inp.appendleft(p)\n",
    "        prog_ = prog.copy()\n",
    "        run_prog(prog_, inp)\n",
    "    output.append(inp[0])\n",
    "print(max(output))"
   ]
  },
  {
   "cell_type": "code",
   "execution_count": null,
   "metadata": {},
   "outputs": [],
   "source": [
    "class Prog:\n",
    "    def __init__(self, prog):\n",
    "        self.prog = prog.copy()\n",
    "        self.base_prog = prog.copy()\n",
    "        self.offset = 0\n",
    "        self.input_deque = deque()\n",
    "        self.output_deque = deque()\n",
    "        self.finished = False\n",
    "        \n",
    "    def run(self):\n",
    "        _continue = True\n",
    "#         print('Run with ', self.input_deque)\n",
    "        while _continue:\n",
    "            _continue, _offset = self.op2(self.prog)\n",
    "            self.offset += _offset\n",
    "        \n",
    "    def op2(self, s):\n",
    "        offset = self.offset\n",
    "        code, params = opc(s[offset])\n",
    "    #     print(s[offset], code, offset, params)\n",
    "        _off = 4\n",
    "        if code == 3 or code == 4:\n",
    "            _off = 2\n",
    "        if code == 5 or code == 6:\n",
    "            _off = 3\n",
    "\n",
    "        if code == 99:\n",
    "            self.finished = True\n",
    "            return False, 1\n",
    "        pr = s[offset:offset+_off].copy()\n",
    "\n",
    "        ppr = []\n",
    "        for i, val in enumerate(pr[1:]):\n",
    "    #         print(i, val)\n",
    "            if int(params[i]) == 0:\n",
    "                ppr.append(int(s[int(val)]))\n",
    "            else:\n",
    "                ppr.append(int(val))\n",
    "\n",
    "    #     print(ppr)\n",
    "\n",
    "        if code == 3:\n",
    "    #         in_ = input()\n",
    "            in_ = self.input_deque.popleft()\n",
    "            in_ = int(in_)\n",
    "            s[int(pr[-1])] = in_\n",
    "            return True, _off\n",
    "        elif code == 4:\n",
    "#             print('>>>', s[int(pr[-1])])\n",
    "            self.output_deque.append(s[int(pr[-1])])\n",
    "            return False, _off\n",
    "        elif code == 5:\n",
    "            flag = ppr[0]\n",
    "            if flag > 0:\n",
    "                new_addr = ppr[1]\n",
    "                return True, new_addr - offset\n",
    "            else:\n",
    "                return True, _off\n",
    "        elif code == 6:\n",
    "            flag = ppr[0]\n",
    "            if flag == 0:\n",
    "                new_addr = ppr[1]\n",
    "                return True, new_addr - offset\n",
    "            else:\n",
    "                return True, _off\n",
    "\n",
    "        if code == 1:\n",
    "            s[int(pr[-1])] = ppr[0] + ppr[1]\n",
    "            return True, _off\n",
    "        elif code == 2:\n",
    "            s[int(pr[-1])] = ppr[0] * ppr[1]\n",
    "            return True, _off\n",
    "        elif code == 7:\n",
    "            s[int(pr[-1])] = 1 if ppr[0] < ppr[1] else 0\n",
    "            return True, _off\n",
    "        elif code == 8:\n",
    "            s[int(pr[-1])] = 1 if ppr[0] == ppr[1] else 0\n",
    "            return True, _off\n",
    "        elif code == 99:\n",
    "            return False, 1\n",
    "        else:\n",
    "            print('Error')\n",
    "            return False"
   ]
  },
  {
   "cell_type": "code",
   "execution_count": null,
   "metadata": {},
   "outputs": [],
   "source": [
    "# prog3 = [3,26,1001,26,-4,26,3,27,1002,27,2,27,1,27,26,\n",
    "# 27,4,27,1001,28,-1,28,1005,28,6,99,0,0,5]\n",
    "\n",
    "# prog4 = [3,52,1001,52,-5,52,3,53,1,52,56,54,1007,54,5,55,1005,55,26,1001,54,\n",
    "# -5,54,1105,1,12,1,53,54,53,1008,54,0,55,1001,55,1,55,2,53,55,53,4,\n",
    "# 53,1001,56,-1,56,1005,56,6,99,0,0,0,0,10]\n",
    "\n",
    "\n",
    "# phase_params = [9, 8, 7, 6, 5]\n",
    "# phase_params = [9, 7, 8, 5, 6]\n",
    "\n",
    "def run_feedback(phase_params):\n",
    "    amps = [Prog(prog) for i in range(5)]\n",
    "\n",
    "    for i in range(5):\n",
    "        amps[i].input_deque.append(phase_params[i])\n",
    "\n",
    "    amps[0].input_deque.append(0)\n",
    "\n",
    "    finished = False\n",
    "    res = 0\n",
    "    while not finished:\n",
    "        for i in range(5):\n",
    "            amps[i].run()\n",
    "            next_idx = (i+1) % 5\n",
    "#             print(next_idx)\n",
    "            if amps[i].output_deque:\n",
    "                res = amps[i].output_deque.pop()\n",
    "                amps[next_idx].input_deque.append(res)\n",
    "            finished = amps[i].finished\n",
    "#             if finished:\n",
    "#                 print('Prog ', i, ' finished')\n",
    "    return res\n",
    "    \n",
    "params = [5, 6, 7, 8, 9]\n",
    "from itertools import permutations\n",
    "\n",
    "perms = permutations(params)\n",
    "\n",
    "output = []\n",
    "\n",
    "for perm in perms:\n",
    "    output.append(run_feedback(perm))\n",
    "print(max(output))"
   ]
  },
  {
   "cell_type": "code",
   "execution_count": null,
   "metadata": {},
   "outputs": [],
   "source": [
    "12 % 10"
   ]
  },
  {
   "cell_type": "code",
   "execution_count": null,
   "metadata": {},
   "outputs": [],
   "source": [
    "def op2(s, offset, inp):\n",
    "    code, params = opc(s[offset])\n",
    "#     print(s[offset], code, offset, params)\n",
    "    _off = 4\n",
    "    if code == 3 or code == 4:\n",
    "        _off = 2\n",
    "    if code == 5 or code == 6:\n",
    "        _off = 3\n",
    "    \n",
    "    if code == 99:\n",
    "        return False, -1\n",
    "    pr = s[offset:offset+_off].copy()\n",
    "    \n",
    "    ppr = []\n",
    "    for i, val in enumerate(pr[1:]):\n",
    "#         print(i, val)\n",
    "        if int(params[i]) == 0:\n",
    "            ppr.append(int(s[int(val)]))\n",
    "        else:\n",
    "            ppr.append(int(val))\n",
    "            \n",
    "#     print(ppr)\n",
    "    \n",
    "    if code == 3:\n",
    "#         in_ = input()\n",
    "        in_ = inp.popleft()\n",
    "        in_ = int(in_)\n",
    "        s[int(pr[-1])] = in_\n",
    "        return True, _off\n",
    "    elif code == 4:\n",
    "        print('>>>', s[int(pr[-1])])\n",
    "        inp.append(s[int(pr[-1])])\n",
    "        if phase_params:\n",
    "            p = phase_params.popleft()\n",
    "            inp.appendleft(p)\n",
    "#             phase_params.append(p)\n",
    "#         phase_params.append(p)\n",
    "#         print(phase_params, inp)\n",
    "        return False, _off\n",
    "    elif code == 5:\n",
    "        flag = ppr[0]\n",
    "        if flag > 0:\n",
    "            new_addr = ppr[1]\n",
    "            return True, new_addr - offset\n",
    "        else:\n",
    "            return True, _off\n",
    "    elif code == 6:\n",
    "        flag = ppr[0]\n",
    "        if flag == 0:\n",
    "            new_addr = ppr[1]\n",
    "            return True, new_addr - offset\n",
    "        else:\n",
    "            return True, _off\n",
    "    \n",
    "    if code == 1:\n",
    "        s[int(pr[-1])] = ppr[0] + ppr[1]\n",
    "        return True, _off\n",
    "    elif code == 2:\n",
    "        s[int(pr[-1])] = ppr[0] * ppr[1]\n",
    "        return True, _off\n",
    "    elif code == 7:\n",
    "        s[int(pr[-1])] = 1 if ppr[0] < ppr[1] else 0\n",
    "        return True, _off\n",
    "    elif code == 8:\n",
    "        s[int(pr[-1])] = 1 if ppr[0] == ppr[1] else 0\n",
    "        return True, _off\n",
    "    elif code == 99:\n",
    "        return False, 1\n",
    "    else:\n",
    "        print('Error')\n",
    "        return False\n",
    "\n",
    "def run_prog2(prog, inp):\n",
    "    offset = 0\n",
    "    _continue = True\n",
    "    while _continue:\n",
    "        _continue, _offset = op2(prog, offset, inp)\n",
    "        #print('Operation at {}'.format(offset))\n",
    "        offset += _offset\n",
    "    if _offset == -1:\n",
    "        return True\n",
    "    else:\n",
    "        return False"
   ]
  },
  {
   "cell_type": "code",
   "execution_count": null,
   "metadata": {},
   "outputs": [],
   "source": [
    "def op(s, offset, inp):\n",
    "    code, params = opc(s[offset])\n",
    "#     print(s[offset], code, offset, params)\n",
    "    _off = 4\n",
    "    if code == 3 or code == 4:\n",
    "        _off = 2\n",
    "    if code == 5 or code == 6:\n",
    "        _off = 3\n",
    "    \n",
    "    if code == 99:\n",
    "        return False, 1\n",
    "    pr = s[offset:offset+_off].copy()\n",
    "    \n",
    "    ppr = []\n",
    "    for i, val in enumerate(pr[1:]):\n",
    "#         print(i, val)\n",
    "        if int(params[i]) == 0:\n",
    "            ppr.append(int(s[int(val)]))\n",
    "        else:\n",
    "            ppr.append(int(val))\n",
    "            \n",
    "#     print(ppr)\n",
    "    \n",
    "    if code == 3:\n",
    "#         in_ = input()\n",
    "        in_ = inp.popleft()\n",
    "        in_ = int(in_)\n",
    "        s[int(pr[-1])] = in_\n",
    "        return True, _off\n",
    "    elif code == 4:\n",
    "        print('>>>', s[int(pr[-1])])\n",
    "        inp.append(s[int(pr[-1])])\n",
    "        return True, _off\n",
    "    elif code == 5:\n",
    "        flag = ppr[0]\n",
    "        if flag > 0:\n",
    "            new_addr = ppr[1]\n",
    "            return True, new_addr - offset\n",
    "        else:\n",
    "            return True, _off\n",
    "    elif code == 6:\n",
    "        flag = ppr[0]\n",
    "        if flag == 0:\n",
    "            new_addr = ppr[1]\n",
    "            return True, new_addr - offset\n",
    "        else:\n",
    "            return True, _off\n",
    "    \n",
    "    if code == 1:\n",
    "        s[int(pr[-1])] = ppr[0] + ppr[1]\n",
    "        return True, _off\n",
    "    elif code == 2:\n",
    "        s[int(pr[-1])] = ppr[0] * ppr[1]\n",
    "        return True, _off\n",
    "    elif code == 7:\n",
    "        s[int(pr[-1])] = 1 if ppr[0] < ppr[1] else 0\n",
    "        return True, _off\n",
    "    elif code == 8:\n",
    "        s[int(pr[-1])] = 1 if ppr[0] == ppr[1] else 0\n",
    "        return True, _off\n",
    "    elif code == 99:\n",
    "        return False, 1\n",
    "    else:\n",
    "        print('Error')\n",
    "        return False\n",
    "\n",
    "def run_prog(prog, inp):\n",
    "    offset = 0\n",
    "    _continue = True\n",
    "    while _continue:\n",
    "        _continue, _offset = op(prog, offset, inp)\n",
    "        #print('Operation at {}'.format(offset))\n",
    "        offset += _offset"
   ]
  },
  {
   "cell_type": "code",
   "execution_count": null,
   "metadata": {},
   "outputs": [],
   "source": [
    "with open('p6_input.txt') as f:\n",
    "    orbits = f.read().split()"
   ]
  },
  {
   "cell_type": "code",
   "execution_count": null,
   "metadata": {},
   "outputs": [],
   "source": [
    "orbits = [\n",
    "'COM)B',\n",
    "'B)C',\n",
    "'C)D',\n",
    "'D)E',\n",
    "'E)F',\n",
    "'B)G',\n",
    "'G)H',\n",
    "'D)I',\n",
    "'E)J',\n",
    "'J)K',\n",
    "'K)L',\n",
    "'K)YOU',\n",
    "'I)SAN'\n",
    "]"
   ]
  },
  {
   "cell_type": "code",
   "execution_count": null,
   "metadata": {},
   "outputs": [],
   "source": [
    "from collections import defaultdict\n",
    "\n",
    "fw = defaultdict(list)\n",
    "bw = dict()\n",
    "\n",
    "for orb in orbits:\n",
    "    a, b = tuple(orb.split(')'))\n",
    "    fw[a].append(b)\n",
    "    bw[b] = a"
   ]
  },
  {
   "cell_type": "code",
   "execution_count": null,
   "metadata": {},
   "outputs": [],
   "source": [
    "from collections import deque\n",
    "\n",
    "def orbcounter(p, trace=False):\n",
    "    cnt = 0\n",
    "    tr = deque()\n",
    "    tr.appendleft(p)\n",
    "    while p != 'COM':\n",
    "        cnt += 1\n",
    "        p = bw[p]\n",
    "        tr.appendleft(p)\n",
    "    if trace:\n",
    "        return cnt, tr\n",
    "    return cnt\n",
    "\n",
    "cnt = 0\n",
    "\n",
    "for sp in bw.keys():\n",
    "    p = sp\n",
    "    cnt += orbcounter(p)\n",
    "    \n",
    "        \n",
    "print(cnt)"
   ]
  },
  {
   "cell_type": "code",
   "execution_count": null,
   "metadata": {},
   "outputs": [],
   "source": [
    "cnt1, tr1 = orbcounter('YOU', True)\n",
    "cnt2, tr2 = orbcounter('SAN', True)"
   ]
  },
  {
   "cell_type": "code",
   "execution_count": null,
   "metadata": {},
   "outputs": [],
   "source": [
    "bp = ''\n",
    "for i in range(min(len(tr1), len(tr2))):\n",
    "    if tr1[i] == tr2[i]:\n",
    "        bp = tr1[i]\n",
    "    else:\n",
    "        break\n",
    "    "
   ]
  },
  {
   "cell_type": "code",
   "execution_count": null,
   "metadata": {},
   "outputs": [],
   "source": [
    "transfer = cnt1 + cnt2 - 2*(orbcounter(bp) + 1)\n",
    "print(transfer)"
   ]
  },
  {
   "cell_type": "markdown",
   "metadata": {},
   "source": [
    "## P5"
   ]
  },
  {
   "cell_type": "code",
   "execution_count": null,
   "metadata": {},
   "outputs": [],
   "source": [
    "def opc(s):\n",
    "    s_ = '{:05d}'.format(int(s))\n",
    "    code = int(s_[-2:])\n",
    "    params = s_[0:3]\n",
    "    return code, params[::-1]\n",
    "\n",
    "def op(s, offset):\n",
    "    code, params = opc(s[offset])\n",
    "    print(s[offset], code, offset, params)\n",
    "    _off = 4\n",
    "    if code == 3 or code == 4:\n",
    "        _off = 2\n",
    "    if code == 5 or code == 6:\n",
    "        _off = 3\n",
    "    \n",
    "    if code == 99:\n",
    "        return False, 1\n",
    "    pr = s[offset:offset+_off].copy()\n",
    "    \n",
    "    ppr = []\n",
    "    for i, val in enumerate(pr[1:]):\n",
    "#         print(i, val)\n",
    "        if int(params[i]) == 0:\n",
    "            ppr.append(int(s[int(val)]))\n",
    "        else:\n",
    "            ppr.append(int(val))\n",
    "            \n",
    "#     print(ppr)\n",
    "    \n",
    "    if code == 3:\n",
    "        in_ = input()\n",
    "        in_ = int(in_)\n",
    "        s[int(pr[-1])] = in_\n",
    "        return True, _off\n",
    "    elif code == 4:\n",
    "        print('>>>', s[int(pr[-1])])\n",
    "        return True, _off\n",
    "    elif code == 5:\n",
    "        flag = ppr[0]\n",
    "        if flag > 0:\n",
    "            new_addr = ppr[1]\n",
    "            return True, new_addr - offset\n",
    "        else:\n",
    "            return True, _off\n",
    "    elif code == 6:\n",
    "        flag = ppr[0]\n",
    "        if flag == 0:\n",
    "            new_addr = ppr[1]\n",
    "            return True, new_addr - offset\n",
    "        else:\n",
    "            return True, _off\n",
    "    \n",
    "    if code == 1:\n",
    "        s[int(pr[-1])] = ppr[0] + ppr[1]\n",
    "        return True, _off\n",
    "    elif code == 2:\n",
    "        s[int(pr[-1])] = ppr[0] * ppr[1]\n",
    "        return True, _off\n",
    "    elif code == 7:\n",
    "        s[int(pr[-1])] = 1 if ppr[0] < ppr[1] else 0\n",
    "        return True, _off\n",
    "    elif code == 8:\n",
    "        s[int(pr[-1])] = 1 if ppr[0] == ppr[1] else 0\n",
    "        return True, _off\n",
    "    elif code == 99:\n",
    "        return False, 1\n",
    "    else:\n",
    "        print('Error')\n",
    "        return False\n",
    "\n",
    "def run_prog(prog):\n",
    "    offset = 0\n",
    "    _continue = True\n",
    "    while _continue:\n",
    "        _continue, _offset = op(prog, offset)\n",
    "        #print('Operation at {}'.format(offset))\n",
    "        offset += _offset"
   ]
  },
  {
   "cell_type": "code",
   "execution_count": null,
   "metadata": {},
   "outputs": [],
   "source": [
    "with open('p5_input.txt') as f:\n",
    "    prog = f.read().strip().split(',')"
   ]
  },
  {
   "cell_type": "code",
   "execution_count": null,
   "metadata": {},
   "outputs": [],
   "source": [
    "run_prog(prog)"
   ]
  },
  {
   "cell_type": "code",
   "execution_count": null,
   "metadata": {},
   "outputs": [],
   "source": [
    "prog[0:10]"
   ]
  },
  {
   "cell_type": "code",
   "execution_count": null,
   "metadata": {},
   "outputs": [],
   "source": [
    "test = [1002,4,3,4,33]\n",
    "run(test)"
   ]
  },
  {
   "cell_type": "code",
   "execution_count": null,
   "metadata": {},
   "outputs": [],
   "source": [
    "test"
   ]
  },
  {
   "cell_type": "code",
   "execution_count": null,
   "metadata": {},
   "outputs": [],
   "source": [
    "run_prog(prog1)"
   ]
  },
  {
   "cell_type": "markdown",
   "metadata": {},
   "source": [
    "## P4"
   ]
  },
  {
   "cell_type": "code",
   "execution_count": null,
   "metadata": {},
   "outputs": [],
   "source": [
    "low = 264360\n",
    "up = 746325\n",
    "cnt = 0\n",
    "for x1 in range(8):\n",
    "    for x2 in range(x1, 10):\n",
    "        for x3 in range(x2, 10):\n",
    "            for x4 in range(x3, 10):\n",
    "                for x5 in range(x4, 10):\n",
    "                    for x6 in range(x5, 10):\n",
    "                        if not (x1 == x2 or x2 == x3 or x3 == x4 or x4 == x5 or x5 == x6):\n",
    "                            continue\n",
    "                        if not check_nb([x1, x2, x3, x4, x5, x6]):\n",
    "                            continue\n",
    "                        nb = x1 * 100000 + x2*10000 + x3*1000 + x4 *100 + x5 *10 + x6\n",
    "                        if nb < low:\n",
    "                            continue\n",
    "                        if nb > up:\n",
    "                            break\n",
    "                        cnt += 1\n",
    "print(cnt)"
   ]
  },
  {
   "cell_type": "code",
   "execution_count": null,
   "metadata": {},
   "outputs": [],
   "source": [
    "from collections import Counter\n",
    "\n",
    "def check_nb(l):\n",
    "    c = Counter()\n",
    "    last = l[0]\n",
    "    c[last] += 1\n",
    "    for i in range(1,6):\n",
    "        c[l[i]] += 1\n",
    "        last = l[i]\n",
    "     \n",
    "    return any(cnt == 2 for cnt in c.values())\n",
    "check_nb([1,2,3,4,5,5])"
   ]
  },
  {
   "cell_type": "code",
   "execution_count": null,
   "metadata": {},
   "outputs": [],
   "source": [
    "_.values()"
   ]
  },
  {
   "cell_type": "markdown",
   "metadata": {},
   "source": [
    "## P3"
   ]
  },
  {
   "cell_type": "code",
   "execution_count": null,
   "metadata": {},
   "outputs": [],
   "source": [
    "with open('p3_input.txt') as f:\n",
    "    wires = f.read().split()\n",
    "    wires = [w.split(',') for w in wires]\n",
    "wires"
   ]
  },
  {
   "cell_type": "code",
   "execution_count": null,
   "metadata": {},
   "outputs": [],
   "source": [
    "def create_path(w):\n",
    "    path = [(0, 0)]\n",
    "    x, y = (0,0)\n",
    "    for d in w:\n",
    "        o = d[0]\n",
    "        amount = int(d[1:])\n",
    "        for i in range(amount):\n",
    "            if o=='R':\n",
    "                x += 1\n",
    "            elif o=='L':\n",
    "                x -= 1\n",
    "            elif o=='U':\n",
    "                y -= 1\n",
    "            elif o=='D':\n",
    "                y += 1\n",
    "            path.append((x, y))\n",
    "    return path\n",
    "p1 = create_path(wires[0])\n",
    "p2 = create_path(wires[1])"
   ]
  },
  {
   "cell_type": "code",
   "execution_count": null,
   "metadata": {},
   "outputs": [],
   "source": [
    "crossing_points = set(p1) & set(p2)"
   ]
  },
  {
   "cell_type": "code",
   "execution_count": null,
   "metadata": {},
   "outputs": [],
   "source": [
    "crossing_points.remove((0, 0))"
   ]
  },
  {
   "cell_type": "code",
   "execution_count": null,
   "metadata": {},
   "outputs": [],
   "source": [
    "min(abs(cp[0])+abs(cp[1]) for cp in crossing_points)"
   ]
  },
  {
   "cell_type": "code",
   "execution_count": null,
   "metadata": {},
   "outputs": [],
   "source": [
    "lengths = []\n",
    "for cp in crossing_points:\n",
    "    l = 0\n",
    "    for p in p1:\n",
    "        if p == cp:\n",
    "            break\n",
    "        l+=1\n",
    "    for p in p2:\n",
    "        if p == cp:\n",
    "            break\n",
    "        l+=1\n",
    "    lengths.append(l)\n",
    "min(lengths)"
   ]
  },
  {
   "cell_type": "markdown",
   "metadata": {},
   "source": [
    "## P1"
   ]
  },
  {
   "cell_type": "code",
   "execution_count": null,
   "metadata": {},
   "outputs": [],
   "source": [
    "with open('p1_input.txt') as f:\n",
    "    lines = f.read().split()\n",
    "    \n",
    "def fuel_need(val):\n",
    "    return max(int(val / 3) - 2, 0)\n",
    "\n",
    "def fuel_comp(val):\n",
    "    tot = 0\n",
    "    fn = fuel_need(val)\n",
    "    while fn > 0:\n",
    "        tot += fn\n",
    "        fn = fuel_need(fn)\n",
    "    return tot"
   ]
  },
  {
   "cell_type": "code",
   "execution_count": null,
   "metadata": {},
   "outputs": [],
   "source": [
    "need = sum(fuel_need(int(val)) for val in lines)\n",
    "print(need)"
   ]
  },
  {
   "cell_type": "code",
   "execution_count": null,
   "metadata": {},
   "outputs": [],
   "source": [
    "need = sum(fuel_comp(int(val)) for val in lines)\n",
    "print(need)"
   ]
  },
  {
   "cell_type": "markdown",
   "metadata": {},
   "source": [
    "## P2"
   ]
  },
  {
   "cell_type": "code",
   "execution_count": null,
   "metadata": {},
   "outputs": [],
   "source": [
    "def get_prog():\n",
    "    return [1,0,0,3,1,1,2,3,1,3,4,3,1,5,0,3,2,1,13,19,2,9,19,23,1,23,6,27,1,13,27,31,1,31,10,35,1,9,35,39,1,39,9,43,2,6,43,47,1,47,5,51,2,10,51,55,1,6,55,59,2,13,59,63,2,13,63,67,1,6,67,71,1,71,5,75,2,75,6,79,1,5,79,83,1,83,6,87,2,10,87,91,1,9,91,95,1,6,95,99,1,99,6,103,2,103,9,107,2,107,10,111,1,5,111,115,1,115,6,119,2,6,119,123,1,10,123,127,1,127,5,131,1,131,2,135,1,135,5,0,99,2,0,14,0]"
   ]
  },
  {
   "cell_type": "code",
   "execution_count": null,
   "metadata": {},
   "outputs": [],
   "source": [
    "prog[1] = 12\n",
    "prog[2] = 2"
   ]
  },
  {
   "cell_type": "code",
   "execution_count": null,
   "metadata": {},
   "outputs": [],
   "source": [
    "def op(s, offset):\n",
    "    if s[offset] == 99:\n",
    "        return False\n",
    "    pr = s[offset:offset+4].copy()\n",
    "    opc = pr[0]\n",
    "    a = s[pr[1]]\n",
    "    b = s[pr[2]]\n",
    "    if opc==1:\n",
    "        s[pr[3]] = a + b\n",
    "        return True\n",
    "    elif opc==2:\n",
    "        s[pr[3]] = a*b\n",
    "        return True\n",
    "    elif opc==99:\n",
    "        return False\n",
    "    else:\n",
    "        print('Error')\n",
    "        return False\n",
    "\n",
    "def run(prog):\n",
    "    offset = 0\n",
    "    while op(prog, offset):\n",
    "        #print('Operation at {}'.format(offset))\n",
    "        offset += 4"
   ]
  },
  {
   "cell_type": "code",
   "execution_count": null,
   "metadata": {},
   "outputs": [],
   "source": [
    "prog"
   ]
  },
  {
   "cell_type": "code",
   "execution_count": null,
   "metadata": {},
   "outputs": [],
   "source": [
    "test1 = [1,0,0,0,99]"
   ]
  },
  {
   "cell_type": "code",
   "execution_count": null,
   "metadata": {},
   "outputs": [],
   "source": [
    "run(test1)"
   ]
  },
  {
   "cell_type": "code",
   "execution_count": null,
   "metadata": {},
   "outputs": [],
   "source": [
    "run(prog)"
   ]
  },
  {
   "cell_type": "code",
   "execution_count": null,
   "metadata": {},
   "outputs": [],
   "source": [
    "prog"
   ]
  },
  {
   "cell_type": "code",
   "execution_count": null,
   "metadata": {},
   "outputs": [],
   "source": [
    "for a in range(100):\n",
    "    for b in range(100):\n",
    "        p = get_prog()\n",
    "        p[1] = a\n",
    "        p[2] = b\n",
    "        run(p)\n",
    "        if p[0] == 19690720:\n",
    "            print(a, b)\n",
    "            break"
   ]
  }
 ],
 "metadata": {
  "kernelspec": {
   "display_name": "Python 3",
   "language": "python",
   "name": "python3"
  },
  "language_info": {
   "codemirror_mode": {
    "name": "ipython",
    "version": 3
   },
   "file_extension": ".py",
   "mimetype": "text/x-python",
   "name": "python",
   "nbconvert_exporter": "python",
   "pygments_lexer": "ipython3",
   "version": "3.6.4"
  }
 },
 "nbformat": 4,
 "nbformat_minor": 2
}
